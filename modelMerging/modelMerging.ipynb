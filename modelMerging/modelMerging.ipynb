{
 "metadata": {
  "signature": "sha256:2d4f8b7efcba2aab5c50fd3ea21eee373b5b3f4da28340cd34e2e123071b29a7"
 },
 "nbformat": 3,
 "nbformat_minor": 0,
 "worksheets": [
  {
   "cells": [
    {
     "cell_type": "markdown",
     "metadata": {},
     "source": [
      "# Installing the latest version of biomodeltoolbox"
     ]
    },
    {
     "cell_type": "code",
     "collapsed": false,
     "input": [
      "!pip install --upgrade git+https://github.com/stanleygu/ipython-notebook-tools.git@82dd29317fcefa91ce132d55d26da561ab148a72"
     ],
     "language": "python",
     "metadata": {},
     "outputs": [
      {
       "output_type": "stream",
       "stream": "stdout",
       "text": [
        "Downloading/unpacking git+https://github.com/stanleygu/ipython-notebook-tools.git@82dd29317fcefa91ce132d55d26da561ab148a72\r\n",
        "  Cloning https://github.com/stanleygu/ipython-notebook-tools.git (to 82dd29317fcefa91ce132d55d26da561ab148a72) to /tmp/pip-laCg7w-build\r\n"
       ]
      },
      {
       "output_type": "stream",
       "stream": "stdout",
       "text": [
        "\u001b[33m  Could not find a tag or branch '82dd29317fcefa91ce132d55d26da561ab148a72', assuming commit.\r\n",
        "\u001b[0m"
       ]
      },
      {
       "output_type": "stream",
       "stream": "stdout",
       "text": [
        "  Running setup.py (path:/tmp/pip-laCg7w-build/setup.py) egg_info for package from git+https://github.com/stanleygu/ipython-notebook-tools.git@82dd29317fcefa91ce132d55d26da561ab148a72\r\n"
       ]
      },
      {
       "output_type": "stream",
       "stream": "stdout",
       "text": [
        "    \r\n"
       ]
      },
      {
       "output_type": "stream",
       "stream": "stdout",
       "text": [
        "Installing collected packages: notebooktools\r\n",
        "  Found existing installation: notebooktools 0.1.0\r\n"
       ]
      },
      {
       "output_type": "stream",
       "stream": "stdout",
       "text": [
        "    Uninstalling notebooktools:\r\n",
        "      Successfully uninstalled notebooktools\r\n",
        "  Running setup.py install for notebooktools\r\n"
       ]
      },
      {
       "output_type": "stream",
       "stream": "stdout",
       "text": [
        "    \r\n"
       ]
      },
      {
       "output_type": "stream",
       "stream": "stdout",
       "text": [
        "Successfully installed notebooktools\r\n",
        "Cleaning up...\r\n"
       ]
      }
     ],
     "prompt_number": 1
    },
    {
     "cell_type": "markdown",
     "metadata": {},
     "source": [
      "# Install biomodels at version 20140916"
     ]
    },
    {
     "cell_type": "code",
     "collapsed": false,
     "input": [
      "!pip install --upgrade git+https://github.com/biomodels/BIOMD0000000042.git@20140916\n",
      "!pip install --upgrade git+https://github.com/biomodels/BIOMD0000000051.git@20140916"
     ],
     "language": "python",
     "metadata": {},
     "outputs": [
      {
       "output_type": "stream",
       "stream": "stdout",
       "text": [
        "Downloading/unpacking git+https://github.com/biomodels/BIOMD0000000042.git@20140916\r\n",
        "  Cloning https://github.com/biomodels/BIOMD0000000042.git (to 20140916) to /tmp/pip-cPQ2KM-build\r\n"
       ]
      },
      {
       "output_type": "stream",
       "stream": "stdout",
       "text": [
        "  Running setup.py (path:/tmp/pip-cPQ2KM-build/setup.py) egg_info for package from git+https://github.com/biomodels/BIOMD0000000042.git@20140916\r\n"
       ]
      },
      {
       "output_type": "stream",
       "stream": "stdout",
       "text": [
        "    /usr/lib/python2.7/distutils/dist.py:267: UserWarning: Unknown distribution option: 'maintainer_url'\r\n",
        "      warnings.warn(msg)\r\n",
        "    \r\n"
       ]
      },
      {
       "output_type": "stream",
       "stream": "stdout",
       "text": [
        "Installing collected packages: BIOMD0000000042\r\n",
        "  Found existing installation: BIOMD0000000042 20140916\r\n",
        "    Uninstalling BIOMD0000000042:\r\n",
        "      Successfully uninstalled BIOMD0000000042\r\n",
        "  Running setup.py install for BIOMD0000000042\r\n"
       ]
      },
      {
       "output_type": "stream",
       "stream": "stdout",
       "text": [
        "    /usr/lib/python2.7/distutils/dist.py:267: UserWarning: Unknown distribution option: 'maintainer_url'\r\n",
        "      warnings.warn(msg)\r\n"
       ]
      },
      {
       "output_type": "stream",
       "stream": "stdout",
       "text": [
        "    \r\n"
       ]
      },
      {
       "output_type": "stream",
       "stream": "stdout",
       "text": [
        "Successfully installed BIOMD0000000042\r\n",
        "Cleaning up...\r\n"
       ]
      },
      {
       "output_type": "stream",
       "stream": "stdout",
       "text": [
        "Downloading/unpacking git+https://github.com/biomodels/BIOMD0000000051.git@20140916\r\n",
        "  Cloning https://github.com/biomodels/BIOMD0000000051.git (to 20140916) to /tmp/pip-PoR2xP-build\r\n"
       ]
      },
      {
       "output_type": "stream",
       "stream": "stdout",
       "text": [
        "  Running setup.py (path:/tmp/pip-PoR2xP-build/setup.py) egg_info for package from git+https://github.com/biomodels/BIOMD0000000051.git@20140916\r\n"
       ]
      },
      {
       "output_type": "stream",
       "stream": "stdout",
       "text": [
        "    /usr/lib/python2.7/distutils/dist.py:267: UserWarning: Unknown distribution option: 'maintainer_url'\r\n",
        "      warnings.warn(msg)\r\n"
       ]
      },
      {
       "output_type": "stream",
       "stream": "stdout",
       "text": [
        "    \r\n"
       ]
      },
      {
       "output_type": "stream",
       "stream": "stdout",
       "text": [
        "Installing collected packages: BIOMD0000000051\r\n",
        "  Found existing installation: BIOMD0000000051 20140916\r\n",
        "    Uninstalling BIOMD0000000051:\r\n",
        "      Successfully uninstalled BIOMD0000000051\r\n",
        "  Running setup.py install for BIOMD0000000051\r\n"
       ]
      },
      {
       "output_type": "stream",
       "stream": "stdout",
       "text": [
        "    /usr/lib/python2.7/distutils/dist.py:267: UserWarning: Unknown distribution option: 'maintainer_url'\r\n",
        "      warnings.warn(msg)\r\n"
       ]
      },
      {
       "output_type": "stream",
       "stream": "stdout",
       "text": [
        "    \r\n"
       ]
      },
      {
       "output_type": "stream",
       "stream": "stdout",
       "text": [
        "Successfully installed BIOMD0000000051\r\n",
        "Cleaning up...\r\n"
       ]
      }
     ],
     "prompt_number": 2
    },
    {
     "cell_type": "markdown",
     "metadata": {},
     "source": [
      "# Importing modules"
     ]
    },
    {
     "cell_type": "code",
     "collapsed": false,
     "input": [
      "import BIOMD0000000042 as nielsen\n",
      "import BIOMD0000000051 as chassagnole\n",
      "import biomodeltoolbox as bmt"
     ],
     "language": "python",
     "metadata": {},
     "outputs": [],
     "prompt_number": 3
    },
    {
     "cell_type": "markdown",
     "metadata": {},
     "source": [
      "#Find and print all matching species between models"
     ]
    },
    {
     "cell_type": "code",
     "collapsed": false,
     "input": [
      "matches = bmt.getMatchingSpecies(nielsen.sbml.getModel(),\n",
      "                                 chassagnole.sbml.getModel())"
     ],
     "language": "python",
     "metadata": {},
     "outputs": [],
     "prompt_number": 4
    },
    {
     "cell_type": "code",
     "collapsed": false,
     "input": [
      "bmt.printMatchingSpecies(matches)"
     ],
     "language": "python",
     "metadata": {},
     "outputs": [
      {
       "output_type": "stream",
       "stream": "stdout",
       "text": [
        "cfdp exactly matches FBP\n",
        "cgap is a GAP\n",
        "cpgp exactly matches DPG\n",
        "cpep exactly matches PEP\n",
        "cpyr exactly matches PYR\n"
       ]
      }
     ],
     "prompt_number": 5
    },
    {
     "cell_type": "code",
     "collapsed": false,
     "input": [
      "nielsenModel = bmt.Biomodel(nielsen.sbml).getAntimony()\n",
      "chassagnoleModel = bmt.Biomodel(chassagnole.sbml).getAntimony()"
     ],
     "language": "python",
     "metadata": {},
     "outputs": [],
     "prompt_number": 6
    },
    {
     "cell_type": "code",
     "collapsed": false,
     "input": [
      "masterModel = chassagnoleModel + nielsenModel + '''\n",
      "model master()\n",
      "    nielsen: Glycolysis_Nielsen();\n",
      "    chassagnole: Chassagnole2002_Carbon_Metabolism();\n",
      "    \n",
      "    nielsen.GLC is chassagnole.cglcex\n",
      "    nielsen.GLC is glucose\n",
      "    nielsen.F6P is chassagnole.cf6p\n",
      "    nielsen.F6P is f6p\n",
      "    nielsen.GAP is chassagnole.cgap\n",
      "    nielsen.GAP is gap\n",
      "    nielsen.PYR is chassagnole.cpyr\n",
      "    nielsen.PYR is pyruvate\n",
      "end\n",
      "'''\n",
      "\n",
      "def simulateAndPlot(m, start, end, steps, selection=None):\n",
      "    import tellurium as te\n",
      "    r = te.loada(m)\n",
      "    if selection is None:\n",
      "        result = r.simulate(start, end, steps)\n",
      "    else:\n",
      "        result = r.simulate(start, end, steps, selection)\n",
      "    te.plotWithLegend(r, result)"
     ],
     "language": "python",
     "metadata": {},
     "outputs": [],
     "prompt_number": 7
    },
    {
     "cell_type": "code",
     "collapsed": false,
     "input": [
      "simulateAndPlot(masterModel, 0, 100, 500, ['time', 'glucose', 'f6p', 'gap', 'pyruvate'])"
     ],
     "language": "python",
     "metadata": {},
     "outputs": [
      {
       "metadata": {},
       "output_type": "display_data",
       "png": "[encoded data removed]",
       "text": [
        "<matplotlib.figure.Figure at 0x5986cd0>"
       ]
      }
     ],
     "prompt_number": 8
    },
    {
     "cell_type": "code",
     "collapsed": false,
     "input": [
      "simulateAndPlot(nielsenModel, 0, 100, 500, ['time', 'NADH'])"
     ],
     "language": "python",
     "metadata": {},
     "outputs": [
      {
       "metadata": {},
       "output_type": "display_data",
       "png": "[encoded data removed]",
       "text": [
        "<matplotlib.figure.Figure at 0x6513050>"
       ]
      }
     ],
     "prompt_number": 9
    },
    {
     "cell_type": "code",
     "collapsed": false,
     "input": [
      "simulateAndPlot(chassagnoleModel, 0, 100, 500, ['time', 'csed7p'])"
     ],
     "language": "python",
     "metadata": {},
     "outputs": [
      {
       "metadata": {},
       "output_type": "display_data",
       "png": "[encoded data removed]",
       "text": [
        "<matplotlib.figure.Figure at 0x6514d90>"
       ]
      }
     ],
     "prompt_number": 10
    },
    {
     "cell_type": "code",
     "collapsed": false,
     "input": [
      "simulateAndPlot(masterModel, 0, 100, 500, ['time', 'nielsen_NADH', 'chassagnole_csed7p'])"
     ],
     "language": "python",
     "metadata": {},
     "outputs": [
      {
       "metadata": {},
       "output_type": "display_data",
       "png": "[encoded data removed]",
       "text": [
        "<matplotlib.figure.Figure at 0x4538850>"
       ]
      }
     ],
     "prompt_number": 11
    }
   ],
   "metadata": {}
  }
 ]
}