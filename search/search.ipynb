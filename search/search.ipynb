{
 "metadata": {
  "signature": "sha256:f6b7c9752584b09be8792e6dd20263c1c2ef9b2fed346fd907c3e9a9fe27cd69"
 },
 "nbformat": 3,
 "nbformat_minor": 0,
 "worksheets": [
  {
   "cells": [
    {
     "cell_type": "markdown",
     "metadata": {},
     "source": [
      "Making a search widget"
     ]
    },
    {
     "cell_type": "code",
     "collapsed": false,
     "input": [
      "s = bioservices.BioModels();\n",
      "ch = bioservices.ChEBI()\n",
      "from IPython.display import display, clear_output"
     ],
     "language": "python",
     "metadata": {},
     "outputs": [
      {
       "output_type": "stream",
       "stream": "stderr",
       "text": [
        "INFO:root:Initialising BioModels service (WSDL)\n"
       ]
      }
     ],
     "prompt_number": 105
    },
    {
     "cell_type": "code",
     "collapsed": false,
     "input": [
      "class SearchBySpeciesForm():\n",
      "    def __init__(self):\n",
      "        import IPython.html.widgets as w\n",
      "        from IPython.display import display, clear_output\n",
      "        import bioservices\n",
      "\n",
      "        self.widgets = {\n",
      "            'searchTerm': w.TextWidget(),\n",
      "            'searchButton': w.ButtonWidget(description='Search'),\n",
      "            'selectChebis': w.SelectWidget(description='Matching ChEBI:'),\n",
      "            'selectModels': w.SelectWidget(description='Matching BioModels:'),\n",
      "            'selectedModel': w.TextareaWidget(description='Model SBML:')\n",
      "        }\n",
      "        self.container = w.ContainerWidget(children=[\n",
      "            self.widgets['searchTerm'],\n",
      "            self.widgets['searchButton'],\n",
      "            self.widgets['selectChebis'],\n",
      "            self.widgets['selectModels'],\n",
      "            self.widgets['selectedModel']\n",
      "        ])\n",
      "        self.widgets['searchTerm'].on_submit(self.search)\n",
      "        self.widgets['searchButton'].on_click(self.search)\n",
      "        self.widgets['selectChebis'].on_trait_change(self.selectChebi)\n",
      "        self.widgets['selectModels'].on_trait_change(self.selectedModel)\n",
      "        \n",
      "        display(self.container)\n",
      "        self.init_display()\n",
      "    \n",
      "    def init_display(self):\n",
      "        clear_output()\n",
      "        for key, w in self.widgets.iteritems():\n",
      "            w.visible = False\n",
      "        \n",
      "        self.widgets['searchTerm'].visible = True\n",
      "        self.widgets['searchButton'].visible = True\n",
      "\n",
      "    \n",
      "    def search(self, b):\n",
      "        self.init_display()\n",
      "        results = ch.getLiteEntity(self.widgets['searchTerm'].value)\n",
      "        choices = [result['chebiId'] for result in results]\n",
      "        choiceText = ['%s (%s)' % (result['chebiId'], result['chebiAsciiName']) for result in results]\n",
      "        \n",
      "        values = {}\n",
      "        for choice, text in zip(choices, choiceText):\n",
      "            values[text] = choice\n",
      "            \n",
      "        self.widgets['selectChebis'].values = values\n",
      "        self.widgets['selectChebis'].visible = True\n",
      "        \n",
      "        \n",
      "    def selectChebi(self, trait):\n",
      "        if trait == 'value':\n",
      "            self.widgets['selectModels'].visible = False\n",
      "            chebi = self.widgets['selectChebis'].value\n",
      "            modelIds = s.getModelsIdByChEBIId(chebi)\n",
      "            values = {}\n",
      "            if modelIds is not None:\n",
      "                for id in modelIds:\n",
      "                    values[id] = id\n",
      "            self.widgets['selectModels'].values = values\n",
      "            self.widgets['selectModels'].visible = True\n",
      "    \n",
      "    def selectedModel(self, trait):\n",
      "        if trait == 'value':\n",
      "            modelId = self.widgets['selectModels'].value\n",
      "            sbml = s.getModelById(modelId)\n",
      "            self.widgets['selectedModel'].value = sbml\n",
      "            self.widgets['selectedModel'].visible = True"
     ],
     "language": "python",
     "metadata": {},
     "outputs": [],
     "prompt_number": 118
    },
    {
     "cell_type": "code",
     "collapsed": false,
     "input": [
      "form = SearchBySpeciesForm()"
     ],
     "language": "python",
     "metadata": {},
     "outputs": [],
     "prompt_number": 119
    }
   ],
   "metadata": {}
  }
 ]
}