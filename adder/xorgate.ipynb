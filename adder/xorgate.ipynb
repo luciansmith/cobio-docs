{
 "metadata": {
  "signature": "sha256:416a52b29d3ba8c0f3b31dd43d226eb18564b9b995e43a3f0c70ecc28b137db2"
 },
 "nbformat": 3,
 "nbformat_minor": 0,
 "worksheets": [
  {
   "cells": [
    {
     "cell_type": "code",
     "collapsed": false,
     "input": [
      "antimony = '''\n",
      "model xorgate(S1, S2, Y)\n",
      "    -> Y; Vmax*(S1 + S2)/(a+S1+S2+b*S1*S2); // S1 XOR S2\n",
      "    Y -> ; gamma_0*Y\n",
      "\n",
      "    gamma_0 = 0.1;\n",
      "    Vmax = 0.1;\n",
      "    Y = 0;\n",
      "    a= 0.0001; b=1000;\n",
      "end\n",
      "'''"
     ],
     "language": "python",
     "metadata": {},
     "outputs": [],
     "prompt_number": 1
    },
    {
     "cell_type": "code",
     "collapsed": false,
     "input": [
      "def test():\n",
      "    test = antimony + '''\n",
      "    model test\n",
      "        x: xorgate(S1, S2, Y);\n",
      "        \n",
      "        at  (time < 100):              S1 = 0, S2 = 0 // Y=0\n",
      "        at (time > 100 && time < 201): S1 = 0, S2 = 1 // Y=1\n",
      "        at (time > 200 && time < 301): S1 = 1, S2 = 0 // Y=1\n",
      "        at (time > 300 && time < 401): S1 = 1, S2 = 1 // Y=0\n",
      "    end\n",
      "    '''\n",
      "    \n",
      "    import tellurium as te\n",
      "    r = te.loada(test)\n",
      "    sim = r.simulate(0, 400, 1000)\n",
      "    te.plotWithLegend(r, sim)"
     ],
     "language": "python",
     "metadata": {},
     "outputs": [],
     "prompt_number": 2
    }
   ],
   "metadata": {}
  }
 ]
}