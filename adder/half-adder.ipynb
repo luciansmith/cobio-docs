{
 "metadata": {
  "signature": "sha256:2e756c9c962f7ef2bfca267c0bbd8a9516e2b6cfe3acb14bc2be5c37fd25ea44"
 },
 "nbformat": 3,
 "nbformat_minor": 0,
 "worksheets": [
  {
   "cells": [
    {
     "cell_type": "code",
     "collapsed": false,
     "input": [
      "import notebooktools as nb\n",
      "nb.loadNotebooksAsModules()"
     ],
     "language": "python",
     "metadata": {},
     "outputs": [],
     "prompt_number": 5
    },
    {
     "cell_type": "code",
     "collapsed": false,
     "input": [
      "import xorgate\n",
      "import andgate"
     ],
     "language": "python",
     "metadata": {},
     "outputs": [
      {
       "output_type": "stream",
       "stream": "stdout",
       "text": [
        "importing IPython notebook from xorgate.ipynb\n",
        "importing IPython notebook from andgate.ipynb\n"
       ]
      }
     ],
     "prompt_number": 6
    },
    {
     "cell_type": "code",
     "collapsed": false,
     "input": [
      "halfadder = xorgate.antimony + andgate.antimony + '''\n",
      "\n",
      "model halfadder\n",
      "    agate: andgate();\n",
      "    xgate: xorgate();\n",
      "    \n",
      "    A is xgate.S1; A is agate.S1;\n",
      "    B is xgate.S2; B is agate.S2;\n",
      "    S is xgate.Y;\n",
      "    C is agate.Y;\n",
      "end\n",
      "'''"
     ],
     "language": "python",
     "metadata": {},
     "outputs": [],
     "prompt_number": 16
    },
    {
     "cell_type": "code",
     "collapsed": false,
     "input": [
      "def test():\n",
      "    \n",
      "    testmodel = halfadder + '''\n",
      "    model test\n",
      "        a: halfadder();\n",
      "\n",
      "        S1 is a.A;\n",
      "        S2 is a.B;\n",
      "        C is a.C;\n",
      "        S is a.S;\n",
      "\n",
      "        at  (time < 100):              S1 = 0, S2 = 0 // Y=1\n",
      "        at (time > 100 && time < 201): S1 = 0, S2 = 1 // Y=0\n",
      "        at (time > 200 && time < 301): S1 = 1, S2 = 0 // Y=0\n",
      "        at (time > 300 && time < 401): S1 = 1, S2 = 1 // Y=1\n",
      "    end\n",
      "    '''\n",
      "    \n",
      "    import tellurium as te\n",
      "    r = te.loada(testmodel)\n",
      "    sim = r.simulate(0, 400, 1000)\n",
      "    te.plotWithLegend(r, sim)"
     ],
     "language": "python",
     "metadata": {},
     "outputs": [],
     "prompt_number": 17
    },
    {
     "cell_type": "code",
     "collapsed": false,
     "input": [
      "test()"
     ],
     "language": "python",
     "metadata": {},
     "outputs": [
      {
       "metadata": {},
       "output_type": "display_data",
       "png": "[encoded data removed]",
       "text": [
        "<matplotlib.figure.Figure at 0x34eddd0>"
       ]
      }
     ],
     "prompt_number": 18
    }
   ],
   "metadata": {}
  }
 ]
}