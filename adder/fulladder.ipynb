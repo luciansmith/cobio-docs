{
 "metadata": {
  "signature": "sha256:d911ac6e49c43ccee8b42a5cf1b9ebcbc24a02d29c686ff0a912fd9b040e72b5"
 },
 "nbformat": 3,
 "nbformat_minor": 0,
 "worksheets": [
  {
   "cells": [
    {
     "cell_type": "markdown",
     "metadata": {},
     "source": [
      "# Building a Full-Adder"
     ]
    },
    {
     "cell_type": "markdown",
     "metadata": {},
     "source": [
      "Here I am attempting to build a full\n",
      "\n",
      "[AND Gate](./andgate.ipynb)\n",
      "\n",
      "[OR Gate](./orgate.ipynb)\n",
      "\n",
      "[XOR Gate](./xorgate.ipynb)\n",
      "\n",
      "[Half-Adder](./half-adder.ipynb)"
     ]
    },
    {
     "cell_type": "code",
     "collapsed": false,
     "input": [
      "import notebooktools as nb\n",
      "nb.loadNotebooksAsModules()"
     ],
     "language": "python",
     "metadata": {},
     "outputs": [],
     "prompt_number": 24
    },
    {
     "cell_type": "code",
     "collapsed": false,
     "input": [
      "halfadder = __import__('half-adder')\n",
      "import orgate"
     ],
     "language": "python",
     "metadata": {},
     "outputs": [],
     "prompt_number": 25
    },
    {
     "cell_type": "code",
     "collapsed": false,
     "input": [
      "fulladder = orgate.antimony + halfadder.halfadder + '''\n",
      "model fulladder\n",
      "    ha1: halfadder();\n",
      "    ha2: halfadder();\n",
      "    org: orgate();\n",
      "\n",
      "    A is ha1.A; \n",
      "    B is ha1.B;\n",
      "    ha1.S is ha2.A;\n",
      "    Cin is ha2.B;\n",
      "    ha2.C is org.S1;\n",
      "    ha1.C is org.S2;\n",
      "    Cout is org.Y;\n",
      "    S is ha2.S;\n",
      "\n",
      "end\n",
      "\n",
      "'''"
     ],
     "language": "python",
     "metadata": {},
     "outputs": [],
     "prompt_number": 26
    },
    {
     "cell_type": "code",
     "collapsed": false,
     "input": [
      "def test():\n",
      "    \n",
      "    testmodel = fulladder + '''\n",
      "    model test\n",
      "        a: fulladder();\n",
      "\n",
      "        S1 is a.A;\n",
      "        S2 is a.B;\n",
      "        Cin is a.Cin;\n",
      "        Cout is a.Cout;\n",
      "        S is a.S;\n",
      "\n",
      "        at (time < 100):               S1 = 0, S2 = 0, Cin = 0 // S=0, Cout=0\n",
      "        at (time > 100 && time < 201): S1 = 1, S2 = 0, Cin = 0 // S=1, Cout=0\n",
      "        at (time > 200 && time < 301): S1 = 0, S2 = 1, Cin = 0 // S=1, Cout=0\n",
      "        at (time > 300 && time < 401): S1 = 1, S2 = 1, Cin = 0 // S=0, Cout=1\n",
      "        at (time > 400 && time < 501): S1 = 0, S2 = 0, Cin = 1 // S=1, Cout=0\n",
      "        at (time > 500 && time < 601): S1 = 1, S2 = 0, Cin = 1 // S=0, Cout=1\n",
      "        at (time > 600 && time < 701): S1 = 0, S2 = 1, Cin = 1 // S=0, Cout=1\n",
      "        at (time > 700 && time < 801): S1 = 1, S2 = 1, Cin = 1 // S=1, Cout=1\n",
      "\n",
      "    end\n",
      "    '''\n",
      "\n",
      "    import tellurium as te\n",
      "    r = te.loada(testmodel)\n",
      "    sim = r.simulate(0, 800, 1000, ['time', 'S', 'Cout'])\n",
      "    te.plotWithLegend(r, sim)"
     ],
     "language": "python",
     "metadata": {},
     "outputs": [],
     "prompt_number": 27
    },
    {
     "cell_type": "code",
     "collapsed": false,
     "input": [
      "test()"
     ],
     "language": "python",
     "metadata": {},
     "outputs": [
      {
       "metadata": {},
       "output_type": "display_data",
       "png": "[encoded data removed]",
       "text": [
        "<matplotlib.figure.Figure at 0x3e3d7d0>"
       ]
      }
     ],
     "prompt_number": 28
    },
    {
     "cell_type": "code",
     "collapsed": false,
     "input": [
      "fulladder = orgate.antimony + halfadder.halfadder + '''\n",
      "model fulladder\n",
      "    ha1: halfadder();\n",
      "\n",
      "    A is ha1.A;\n",
      "    B is ha1.B;\n",
      "    C is ha1.C;\n",
      "    S is ha1.S;\n",
      "end\n",
      "\n",
      "'''\n",
      "\n",
      "def test():\n",
      "    \n",
      "    testmodel = fulladder + '''\n",
      "    model test\n",
      "        a: halfadder();\n",
      "        b: halfadder();\n",
      "\n",
      "        S1 is a.A;\n",
      "        S2 is a.B;\n",
      "        a.S is b.A;\n",
      "        a.C is b.B;\n",
      "        \n",
      "        C is b.C;\n",
      "        S is b.S;\n",
      "        \n",
      "\n",
      "        at (time < 100):               S1 = 0, S2 = 0 // Y=1\n",
      "        at (time > 100 && time < 201): S1 = 0.8, S2 = 0 // Y=0\n",
      "        at (time > 200 && time < 301): S1 = 0, S2 = 1 // Y=0\n",
      "        at (time > 300 && time < 401): S1 = 1, S2 = 1 // Y=1\n",
      "        at (time > 400 && time < 501): S1 = 0, S2 = 0 // Y=0\n",
      "        at (time > 500 && time < 601): S1 = 1, S2 = 0 // Y=0\n",
      "        at (time > 600 && time < 701): S1 = 0, S2 = 1 // Y=0\n",
      "        at (time > 700 && time < 801): S1 = 1, S2 = 1 // Y=1\n",
      "    end\n",
      "    '''\n",
      "\n",
      "    import tellurium as te\n",
      "    r = te.loada(testmodel)\n",
      "    sim = r.simulate(0, 400, 1000, ['time', 'S', 'C'])\n",
      "    te.plotWithLegend(r, sim)\n",
      "\n",
      "test()"
     ],
     "language": "python",
     "metadata": {},
     "outputs": [
      {
       "metadata": {},
       "output_type": "display_data",
       "png": "[encoded data removed]",
       "text": [
        "<matplotlib.figure.Figure at 0x3c70610>"
       ]
      }
     ],
     "prompt_number": 21
    }
   ],
   "metadata": {}
  }
 ]
}