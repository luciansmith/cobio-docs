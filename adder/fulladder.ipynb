{
 "metadata": {
  "signature": "sha256:3bb19292bc8c29be378a53355d92e25d3c83fea0c61f4bb016974299bf000d02"
 },
 "nbformat": 3,
 "nbformat_minor": 0,
 "worksheets": [
  {
   "cells": [
    {
     "cell_type": "markdown",
     "metadata": {},
     "source": [
      "# Building an Adder with gene circuits"
     ]
    },
    {
     "cell_type": "markdown",
     "metadata": {},
     "source": [
      "First I made several logic gates that be used in building a half-adder and adder:\n",
      "\n",
      "* [AND Gate](./andgate.ipynb)\n",
      "* [OR Gate](./orgate.ipynb)\n",
      "* [XOR Gate](./xorgate.ipynb)\n",
      "\n",
      "Next I assembled a [half-adder](./half-adder.ipynb) using an XOR and an AND. Here is a schematic along with the truth table:\n",
      "\n",
      "![halfadder](http://upload.wikimedia.org/wikipedia/commons/d/d9/Half_Adder.svg)\n",
      "\n",
      "<table class=\"wikitable\" style=\"text-align:center\">\n",
      "<tbody><tr>\n",
      "<th colspan=\"2\">Inputs</th>\n",
      "<th colspan=\"2\">Outputs</th>\n",
      "</tr>\n",
      "<tr>\n",
      "<th><i>A</i></th>\n",
      "<th><i>B</i></th>\n",
      "<th><i>C</i></th>\n",
      "<th><i>S</i></th>\n",
      "</tr>\n",
      "<tr>\n",
      "<td>0</td>\n",
      "<td>0</td>\n",
      "<td>0</td>\n",
      "<td>0</td>\n",
      "</tr>\n",
      "<tr>\n",
      "<td>1</td>\n",
      "<td>0</td>\n",
      "<td>0</td>\n",
      "<td>1</td>\n",
      "</tr>\n",
      "<tr>\n",
      "<td>0</td>\n",
      "<td>1</td>\n",
      "<td>0</td>\n",
      "<td>1</td>\n",
      "</tr>\n",
      "<tr>\n",
      "<td>1</td>\n",
      "<td>1</td>\n",
      "<td>1</td>\n",
      "<td>0</td>\n",
      "</tr>\n",
      "</tbody></table>\n",
      "\n",
      "Now using two half-adders and an OR gate, I tried to assemble a full-adder.\n",
      "\n",
      "![fulladder](http://upload.wikimedia.org/wikipedia/commons/6/69/Full-adder_logic_diagram.svg)\n",
      "\n",
      "<table class=\"wikitable\" style=\"text-align:center\">\n",
      "<tbody><tr>\n",
      "<th colspan=\"3\">Inputs</th>\n",
      "<th colspan=\"2\">Outputs</th>\n",
      "</tr>\n",
      "<tr>\n",
      "<th><i>A</i></th>\n",
      "<th><i>B</i></th>\n",
      "<th><i>C</i><sub>in</sub></th>\n",
      "<th><i>C</i><sub>out</sub></th>\n",
      "<th><i>S</i></th>\n",
      "</tr>\n",
      "<tr>\n",
      "<td>0</td>\n",
      "<td>0</td>\n",
      "<td>0</td>\n",
      "<td>0</td>\n",
      "<td>0</td>\n",
      "</tr>\n",
      "<tr>\n",
      "<td>1</td>\n",
      "<td>0</td>\n",
      "<td>0</td>\n",
      "<td>0</td>\n",
      "<td>1</td>\n",
      "</tr>\n",
      "<tr>\n",
      "<td>0</td>\n",
      "<td>1</td>\n",
      "<td>0</td>\n",
      "<td>0</td>\n",
      "<td>1</td>\n",
      "</tr>\n",
      "<tr>\n",
      "<td>1</td>\n",
      "<td>1</td>\n",
      "<td>0</td>\n",
      "<td>1</td>\n",
      "<td>0</td>\n",
      "</tr>\n",
      "<tr>\n",
      "<td>0</td>\n",
      "<td>0</td>\n",
      "<td>1</td>\n",
      "<td>0</td>\n",
      "<td>1</td>\n",
      "</tr>\n",
      "<tr>\n",
      "<td>1</td>\n",
      "<td>0</td>\n",
      "<td>1</td>\n",
      "<td>1</td>\n",
      "<td>0</td>\n",
      "</tr>\n",
      "<tr>\n",
      "<td>0</td>\n",
      "<td>1</td>\n",
      "<td>1</td>\n",
      "<td>1</td>\n",
      "<td>0</td>\n",
      "</tr>\n",
      "<tr>\n",
      "<td>1</td>\n",
      "<td>1</td>\n",
      "<td>1</td>\n",
      "<td>1</td>\n",
      "<td>1</td>\n",
      "</tr>\n",
      "</tbody></table>"
     ]
    },
    {
     "cell_type": "code",
     "collapsed": false,
     "input": [
      "import notebooktools as nb\n",
      "nb.loadNotebooksAsModules()"
     ],
     "language": "python",
     "metadata": {},
     "outputs": [],
     "prompt_number": 10
    },
    {
     "cell_type": "markdown",
     "metadata": {},
     "source": [
      "Importing the half adder and OR gate modules."
     ]
    },
    {
     "cell_type": "code",
     "collapsed": false,
     "input": [
      "halfadder = __import__('half-adder')\n",
      "import orgate"
     ],
     "language": "python",
     "metadata": {},
     "outputs": [],
     "prompt_number": 11
    },
    {
     "cell_type": "markdown",
     "metadata": {},
     "source": [
      "Now I wire up the full adder."
     ]
    },
    {
     "cell_type": "code",
     "collapsed": false,
     "input": [
      "fulladder = orgate.antimony + halfadder.halfadder + '''\n",
      "model fulladder\n",
      "    ha1: halfadder();\n",
      "    ha2: halfadder();\n",
      "    org: orgate();\n",
      "\n",
      "    A is ha1.A; \n",
      "    B is ha1.B;\n",
      "    ha1.S is ha2.A;\n",
      "    Cin is ha2.B;\n",
      "    ha2.C is org.S1;\n",
      "    ha1.C is org.S2;\n",
      "    Cout is org.Y;\n",
      "    S is ha2.S;\n",
      "\n",
      "end\n",
      "\n",
      "'''"
     ],
     "language": "python",
     "metadata": {},
     "outputs": [],
     "prompt_number": 12
    },
    {
     "cell_type": "markdown",
     "metadata": {},
     "source": [
      "I use this test function to see a sample response from the adder."
     ]
    },
    {
     "cell_type": "code",
     "collapsed": false,
     "input": [
      "def test():\n",
      "    \n",
      "    testmodel = fulladder + '''\n",
      "    model test\n",
      "        a: fulladder();\n",
      "\n",
      "        S1 is a.A;\n",
      "        S2 is a.B;\n",
      "        Cin is a.Cin;\n",
      "        Cout is a.Cout;\n",
      "        S is a.S;\n",
      "\n",
      "        at (time < 100):               S1 = 0, S2 = 0, Cin = 0 // S=0, Cout=0\n",
      "        at (time > 100 && time < 201): S1 = 1, S2 = 0, Cin = 0 // S=1, Cout=0\n",
      "        at (time > 200 && time < 301): S1 = 0, S2 = 1, Cin = 0 // S=1, Cout=0\n",
      "        at (time > 300 && time < 401): S1 = 1, S2 = 1, Cin = 0 // S=0, Cout=1\n",
      "        at (time > 400 && time < 501): S1 = 0, S2 = 0, Cin = 1 // S=1, Cout=0\n",
      "        at (time > 500 && time < 601): S1 = 1, S2 = 0, Cin = 1 // S=0, Cout=1\n",
      "        at (time > 600 && time < 701): S1 = 0, S2 = 1, Cin = 1 // S=0, Cout=1\n",
      "        at (time > 700 && time < 801): S1 = 1, S2 = 1, Cin = 1 // S=1, Cout=1\n",
      "\n",
      "    end\n",
      "    '''\n",
      "\n",
      "    import tellurium as te\n",
      "    r = te.loada(testmodel)\n",
      "    sim = r.simulate(0, 800, 1000, ['time', 'S', 'Cout'])\n",
      "    te.plotWithLegend(r, sim)"
     ],
     "language": "python",
     "metadata": {},
     "outputs": [],
     "prompt_number": 13
    },
    {
     "cell_type": "code",
     "collapsed": false,
     "input": [
      "test()"
     ],
     "language": "python",
     "metadata": {},
     "outputs": [
      {
       "metadata": {},
       "output_type": "display_data",
       "png": "[encoded data removed]",
       "text": [
        "<matplotlib.figure.Figure at 0x433e990>"
       ]
      }
     ],
     "prompt_number": 14
    },
    {
     "cell_type": "markdown",
     "metadata": {},
     "source": [
      "Unfortunately, although the half-adder works fine, when the put in series, I get some unexpected output"
     ]
    },
    {
     "cell_type": "markdown",
     "metadata": {},
     "source": [
      "Here I try a different setup and more simply wire two half-adders in series, where the S and C outputs from one is the A and B inputs for the second. This is the expected truth table, where S1, C1 and S2, C2 are the outputs for the first and second half-adders.\n",
      "\n",
      "\n",
      "<style type=\"text/css\">\n",
      ".tg  {border-collapse:collapse;border-spacing:0;}\n",
      ".tg td{font-family:Arial, sans-serif;font-size:14px;padding:10px 5px;border-style:solid;border-width:1px;overflow:hidden;word-break:normal;}\n",
      ".tg th{font-family:Arial, sans-serif;font-size:14px;font-weight:normal;padding:10px 5px;border-style:solid;border-width:1px;overflow:hidden;word-break:normal;}\n",
      "</style>\n",
      "<table class=\"tg\">\n",
      "  <tr>\n",
      "    <th class=\"tg-031e\">A</th>\n",
      "    <th class=\"tg-031e\">B</th>\n",
      "    <th class=\"tg-031e\">S1</th>\n",
      "    <th class=\"tg-031e\">C1</th>\n",
      "    <th class=\"tg-031e\">S2</th>\n",
      "    <th class=\"tg-031e\">C2</th>\n",
      "  </tr>\n",
      "  <tr>\n",
      "    <td class=\"tg-031e\">0</td>\n",
      "    <td class=\"tg-031e\">0</td>\n",
      "    <td class=\"tg-031e\">0</td>\n",
      "    <td class=\"tg-031e\">0</td>\n",
      "    <td class=\"tg-031e\">0</td>\n",
      "    <td class=\"tg-031e\">0</td>\n",
      "  </tr>\n",
      "  <tr>\n",
      "    <td class=\"tg-031e\">0</td>\n",
      "    <td class=\"tg-031e\">1</td>\n",
      "    <td class=\"tg-031e\">1</td>\n",
      "    <td class=\"tg-031e\">0</td>\n",
      "    <td class=\"tg-031e\">1</td>\n",
      "    <td class=\"tg-031e\">0</td>\n",
      "  </tr>\n",
      "  <tr>\n",
      "    <td class=\"tg-031e\">1</td>\n",
      "    <td class=\"tg-031e\">0</td>\n",
      "    <td class=\"tg-031e\">1</td>\n",
      "    <td class=\"tg-031e\">0</td>\n",
      "    <td class=\"tg-031e\">1</td>\n",
      "    <td class=\"tg-031e\">0</td>\n",
      "  </tr>\n",
      "  <tr>\n",
      "    <td class=\"tg-031e\">1</td>\n",
      "    <td class=\"tg-031e\">1</td>\n",
      "    <td class=\"tg-031e\">0</td>\n",
      "    <td class=\"tg-031e\">1</td>\n",
      "    <td class=\"tg-031e\">1</td>\n",
      "    <td class=\"tg-031e\">0</td>\n",
      "  </tr>\n",
      "</table>"
     ]
    },
    {
     "cell_type": "code",
     "collapsed": false,
     "input": [
      "def test():\n",
      "    \n",
      "    testmodel = halfadder.halfadder + '''\n",
      "model test\n",
      "    a: halfadder(S1, S2, aS, aC);\n",
      "    b: halfadder(_A, _B, S, C);\n",
      "    \n",
      "     at 50 after (_A != aS), fromTrigger=false: _A = aS\n",
      "     at 50 after (_B != aC), fromTrigger=false: _B = aC\n",
      "\n",
      "#    at (time < 100):                        S1 = 0, S2 = 0\n",
      "#    at (time > 100 && time < 201):          S1 = 0.8, S2 = 0\n",
      "#    at (time > 200 && time < 301):          S1 = 0, S2 = 1\n",
      "#    at (time > 300 && time < 401):          S1 = 1, S2 = 1\n",
      "\n",
      "    S1 = 0\n",
      "    S2 = 0\n",
      "    Ca = 0\n",
      "    Sa = 0\n",
      "    _A = 0\n",
      "    _B = 0\n",
      "    at (time > 100):          S1 = 0.8, S2 = 0\n",
      "#    at 50 after (time > 100): _A = aS; _B = aC\n",
      "    at (time > 200):          S1 = 0, S2 = 1\n",
      "#    at 50 after (time > 200): _A = aS; _B = aC\n",
      "    at (time > 300):          S1 = 1, S2 = 1\n",
      "#    at 50 after (time > 300): _A = aS; _B = aC\n",
      "\n",
      "end\n",
      "    '''\n",
      "\n",
      "    import tellurium as te\n",
      "    r = te.loada(testmodel)\n",
      "    sim = r.simulate(0, 400, 1000, ['time', 'S', 'C'])\n",
      "    te.plotWithLegend(r, sim)\n",
      "    \n",
      "    r = te.loada(testmodel)\n",
      "    sim = r.simulate(0, 400, 1000, ['time', 'aS', 'aC'])\n",
      "    te.plotWithLegend(r, sim)\n",
      "\n",
      "test()"
     ],
     "language": "python",
     "metadata": {},
     "outputs": [
      {
       "metadata": {},
       "output_type": "display_data",
       "png": "[encoded data removed]",
       "text": [
        "<matplotlib.figure.Figure at 0x5a82c50>"
       ]
      },
      {
       "metadata": {},
       "output_type": "display_data",
       "png": "[encoded data removed]",
       "text": [
        "<matplotlib.figure.Figure at 0x4d5a510>"
       ]
      }
     ],
     "prompt_number": 25
    },
    {
     "cell_type": "markdown",
     "metadata": {},
     "source": [
      "I expect C to stay at zero and S to stay at one, but something weird happens."
     ]
    },
    {
     "cell_type": "code",
     "collapsed": false,
     "input": [],
     "language": "python",
     "metadata": {},
     "outputs": []
    }
   ],
   "metadata": {}
  }
 ]
}