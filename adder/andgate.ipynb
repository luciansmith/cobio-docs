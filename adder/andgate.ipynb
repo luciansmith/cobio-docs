{
 "metadata": {
  "signature": "sha256:c0ecd75d27471cd6f5c1777ac28d7c2c17c0d56f3979411c2d96bb6fd92b36e5"
 },
 "nbformat": 3,
 "nbformat_minor": 0,
 "worksheets": [
  {
   "cells": [
    {
     "cell_type": "code",
     "collapsed": false,
     "input": [
      "antimony = '''\n",
      "model andgate\n",
      "-> Y; Vmax*(b*S1*S2)/(a+S1+S2+b*S1*S2); // X1 AND X2\n",
      "Y -> ; gamma_0*Y\n",
      "\n",
      "gamma_0 = 0.1;\n",
      "Vmax = 0.1;\n",
      "Y = 0;\n",
      "a= 0.0001; b=1000;\n",
      "\n",
      "at  (time < 100):              S1 = 0, S2 = 0 // Y=1\n",
      "at (time > 100 && time < 201): S1 = 0, S2 = 1 // Y=0\n",
      "at (time > 200 && time < 301): S1 = 1, S2 = 0 // Y=0\n",
      "at (time > 300 && time < 401): S1 = 1, S2 = 1 // Y=1\n",
      "end\n",
      "'''"
     ],
     "language": "python",
     "metadata": {},
     "outputs": []
    },
    {
     "cell_type": "code",
     "collapsed": false,
     "input": [
      "def test():\n",
      "    import tellurium as te\n",
      "    r = te.loada(antimony)\n",
      "    sim = r.simulate(0, 400, 1000)\n",
      "    te.plotWithLegend(r, sim)"
     ],
     "language": "python",
     "metadata": {},
     "outputs": []
    }
   ],
   "metadata": {}
  }
 ]
}