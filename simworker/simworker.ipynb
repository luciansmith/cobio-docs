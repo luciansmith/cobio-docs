{
 "metadata": {
  "signature": "sha256:3f7a32d8d2a87365d40051a3181939b0ab862fd39213fedcb7a2c3cb22a88e1d"
 },
 "nbformat": 3,
 "nbformat_minor": 0,
 "worksheets": [
  {
   "cells": [
    {
     "cell_type": "code",
     "collapsed": false,
     "input": [
      "import tasks\n",
      "import time\n",
      "\n",
      "i = tasks.app.control.inspect()\n",
      "\n",
      "print 'Number of active cluster workers: %s' % len(i.active())\n",
      "print 'Number of pending jobs: %s' % tasks.app.backend.client.llen('celery')"
     ],
     "language": "python",
     "metadata": {},
     "outputs": [
      {
       "output_type": "stream",
       "stream": "stdout",
       "text": [
        "Number of active cluster workers: 3\n",
        "Number of pending jobs: 0\n"
       ]
      }
     ],
     "prompt_number": 17
    },
    {
     "cell_type": "code",
     "collapsed": false,
     "input": [
      "def test_map(dt,n):\n",
      "    from celery import group\n",
      "    ts = [dt]*n\n",
      "    tic = time.time()\n",
      "    q = []\n",
      "    for s in ts:\n",
      "        amr = tasks.sleep.s(s)\n",
      "        q.append(amr)\n",
      "#     for r in results:\n",
      "#         r.get()\n",
      "    result = group(q).apply_async()\n",
      "    toc = time.time()\n",
      "    result.get()\n",
      "    tac = time.time()\n",
      "    sent = toc-tic\n",
      "    roundtrip = tac-tic\n",
      "    return sent, roundtrip"
     ],
     "language": "python",
     "metadata": {},
     "outputs": [],
     "prompt_number": 40
    },
    {
     "cell_type": "code",
     "collapsed": false,
     "input": [
      "# Using TK1 boards\n",
      "concurrency = 2\n",
      "dup = 16\n",
      "n = len(i.active()) * dup\n",
      "for dt in np.logspace(-3,1,10):\n",
      "    time.sleep(0.5)\n",
      "    s,rt = test_map(dt, n)\n",
      "    print \"%4ims %5.1f%%\" % (1000*dt, dup*100*dt / rt / concurrency)"
     ],
     "language": "python",
     "metadata": {},
     "outputs": [
      {
       "output_type": "stream",
       "stream": "stdout",
       "text": [
        "   1ms   0.6%\n",
        "   2ms   1.6%"
       ]
      },
      {
       "output_type": "stream",
       "stream": "stdout",
       "text": [
        "\n",
        "   7ms   4.3%"
       ]
      },
      {
       "output_type": "stream",
       "stream": "stdout",
       "text": [
        "\n",
        "  21ms  13.3%"
       ]
      },
      {
       "output_type": "stream",
       "stream": "stdout",
       "text": [
        "\n",
        "  59ms  22.7%"
       ]
      },
      {
       "output_type": "stream",
       "stream": "stdout",
       "text": [
        "\n",
        " 166ms  43.9%"
       ]
      },
      {
       "output_type": "stream",
       "stream": "stdout",
       "text": [
        "\n",
        " 464ms  55.8%"
       ]
      },
      {
       "output_type": "stream",
       "stream": "stdout",
       "text": [
        "\n",
        "1291ms  66.3%"
       ]
      },
      {
       "output_type": "stream",
       "stream": "stdout",
       "text": [
        "\n",
        "3593ms  73.4%"
       ]
      },
      {
       "output_type": "stream",
       "stream": "stdout",
       "text": [
        "\n",
        "10000ms  78.8%"
       ]
      },
      {
       "output_type": "stream",
       "stream": "stdout",
       "text": [
        "\n"
       ]
      }
     ],
     "prompt_number": 46
    },
    {
     "cell_type": "code",
     "collapsed": false,
     "input": [
      "# Using TK1 boards with single thread\n",
      "concurrency = 1\n",
      "dup = 16\n",
      "n = len(i.active()) * dup\n",
      "for dt in np.logspace(-3,0,10):\n",
      "    time.sleep(0.5)\n",
      "    s,rt = test_map(dt, n)\n",
      "    print \"%4ims %5.1f%%\" % (1000*dt, dup*100*dt / rt / concurrency)"
     ],
     "language": "python",
     "metadata": {},
     "outputs": [
      {
       "output_type": "stream",
       "stream": "stdout",
       "text": [
        "   1ms   1.1%\n",
        "   2ms   2.3%"
       ]
      },
      {
       "output_type": "stream",
       "stream": "stdout",
       "text": [
        "\n",
        "   4ms   5.3%"
       ]
      },
      {
       "output_type": "stream",
       "stream": "stdout",
       "text": [
        "\n",
        "  10ms  11.4%"
       ]
      },
      {
       "output_type": "stream",
       "stream": "stdout",
       "text": [
        "\n",
        "  21ms  20.2%"
       ]
      },
      {
       "output_type": "stream",
       "stream": "stdout",
       "text": [
        "\n",
        "  46ms  34.9%"
       ]
      },
      {
       "output_type": "stream",
       "stream": "stdout",
       "text": [
        "\n",
        " 100ms  51.0%"
       ]
      },
      {
       "output_type": "stream",
       "stream": "stdout",
       "text": [
        "\n",
        " 215ms  59.3%"
       ]
      },
      {
       "output_type": "stream",
       "stream": "stdout",
       "text": [
        "\n",
        " 464ms  75.9%"
       ]
      },
      {
       "output_type": "stream",
       "stream": "stdout",
       "text": [
        "\n",
        "1000ms  90.1%"
       ]
      },
      {
       "output_type": "stream",
       "stream": "stdout",
       "text": [
        "\n"
       ]
      }
     ],
     "prompt_number": 48
    },
    {
     "cell_type": "code",
     "collapsed": false,
     "input": [
      "# Using virtual machine nodes\n",
      "concurrency = 1\n",
      "dup = 16\n",
      "n = len(i.active()) * dup\n",
      "for dt in np.logspace(-3,0,10):\n",
      "    time.sleep(0.5)\n",
      "    s,rt = test_map(dt, n)\n",
      "    print \"%4ims %5.1f%%\" % (1000*dt, dup*100*dt / rt / concurrency)"
     ],
     "language": "python",
     "metadata": {},
     "outputs": [
      {
       "output_type": "stream",
       "stream": "stdout",
       "text": [
        "   1ms   1.2%\n",
        "   2ms   2.4%"
       ]
      },
      {
       "output_type": "stream",
       "stream": "stdout",
       "text": [
        "\n",
        "   4ms   4.4%"
       ]
      },
      {
       "output_type": "stream",
       "stream": "stdout",
       "text": [
        "\n",
        "  10ms  10.6%"
       ]
      },
      {
       "output_type": "stream",
       "stream": "stdout",
       "text": [
        "\n",
        "  21ms  25.0%"
       ]
      },
      {
       "output_type": "stream",
       "stream": "stdout",
       "text": [
        "\n",
        "  46ms  37.0%"
       ]
      },
      {
       "output_type": "stream",
       "stream": "stdout",
       "text": [
        "\n",
        " 100ms  64.1%"
       ]
      },
      {
       "output_type": "stream",
       "stream": "stdout",
       "text": [
        "\n",
        " 215ms  75.0%"
       ]
      },
      {
       "output_type": "stream",
       "stream": "stdout",
       "text": [
        "\n",
        " 464ms  84.4%"
       ]
      },
      {
       "output_type": "stream",
       "stream": "stdout",
       "text": [
        "\n",
        "1000ms  94.2%"
       ]
      },
      {
       "output_type": "stream",
       "stream": "stdout",
       "text": [
        "\n"
       ]
      }
     ],
     "prompt_number": 47
    }
   ],
   "metadata": {}
  }
 ]
}