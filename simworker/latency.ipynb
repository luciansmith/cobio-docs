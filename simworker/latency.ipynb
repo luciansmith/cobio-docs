{
 "metadata": {
  "signature": "sha256:a8939cad30e206fcbe0af40c8b4ea1c077de0cdce17ba5323c69aa3735f09f47"
 },
 "nbformat": 3,
 "nbformat_minor": 0,
 "worksheets": [
  {
   "cells": [
    {
     "cell_type": "code",
     "collapsed": false,
     "input": [
      "def test_latency(n):\n",
      "    import tasks\n",
      "    from celery import group\n",
      "    tic = time.time()\n",
      "    echo = lambda x: x\n",
      "    tic = time.time()\n",
      "    q = []\n",
      "    for i in xrange(n):\n",
      "        q.append(tasks.add.s(1, 1))\n",
      "    result = group(q).apply_async()\n",
      "    toc = time.time()\n",
      "    result.get()\n",
      "    tac = time.time()\n",
      "    sent = toc-tic\n",
      "    roundtrip = tac-tic\n",
      "    return sent, roundtrip"
     ],
     "language": "python",
     "metadata": {},
     "outputs": [],
     "prompt_number": 6
    },
    {
     "cell_type": "code",
     "collapsed": false,
     "input": [
      "import time\n",
      "sends = []\n",
      "roundtrips = []\n",
      "ns = [1,4,8,16,32,64,128,256,512,1024,2048,4096,8192]\n",
      "for n in ns:\n",
      "    # short rest between tests\n",
      "    time.sleep(1)\n",
      "    s,rt = test_latency(n)\n",
      "    s = n/s\n",
      "    rt = n/rt\n",
      "    sends.append(s)\n",
      "    roundtrips.append(rt)\n",
      "    print \"%4i %6.1f %6.1f\" % (n,s,rt)\n"
     ],
     "language": "python",
     "metadata": {},
     "outputs": [
      {
       "output_type": "stream",
       "stream": "stdout",
       "text": [
        "   1  138.7    0.7\n",
        "   4  213.6    3.6"
       ]
      },
      {
       "output_type": "stream",
       "stream": "stdout",
       "text": [
        "\n",
        "   8  323.1    4.8"
       ]
      },
      {
       "output_type": "stream",
       "stream": "stdout",
       "text": [
        "\n",
        "  16  304.9   13.6"
       ]
      },
      {
       "output_type": "stream",
       "stream": "stdout",
       "text": [
        "\n",
        "  32  336.6   19.4"
       ]
      },
      {
       "output_type": "stream",
       "stream": "stdout",
       "text": [
        "\n",
        "  64  332.5   43.3"
       ]
      },
      {
       "output_type": "stream",
       "stream": "stdout",
       "text": [
        "\n",
        " 128  307.5   61.9"
       ]
      },
      {
       "output_type": "stream",
       "stream": "stdout",
       "text": [
        "\n",
        " 256  305.8  127.5"
       ]
      },
      {
       "output_type": "stream",
       "stream": "stdout",
       "text": [
        "\n",
        " 512  383.5  155.0"
       ]
      },
      {
       "output_type": "stream",
       "stream": "stdout",
       "text": [
        "\n",
        "1024  341.2  219.4"
       ]
      },
      {
       "output_type": "stream",
       "stream": "stdout",
       "text": [
        "\n",
        "2048  355.4  257.8"
       ]
      },
      {
       "output_type": "stream",
       "stream": "stdout",
       "text": [
        "\n",
        "4096  325.8  291.5"
       ]
      },
      {
       "output_type": "stream",
       "stream": "stdout",
       "text": [
        "\n",
        "8192  351.7  320.2"
       ]
      },
      {
       "output_type": "stream",
       "stream": "stdout",
       "text": [
        "\n"
       ]
      }
     ],
     "prompt_number": 7
    },
    {
     "cell_type": "code",
     "collapsed": false,
     "input": [
      "import matplotlib.pyplot as plt\n",
      "\n",
      "plt.title(\"Latency\")\n",
      "# ns, sends, roundtrips = map(np.array, [ns, sends, roundtrips])\n",
      "plt.loglog(ns, sends, '--', label='sent')\n",
      "plt.loglog(ns, roundtrips, '-+', label='roundtrip')\n",
      "plt.legend(loc=\"lower right\")\n",
      "plt.xlabel(\"Tasks\")\n",
      "plt.ylabel(\"Tasks/s\")\n",
      "plt.ylim(1e1,1e4)\n",
      "plt.xlim(ns[0], ns[-1])\n",
      "plt.grid(True)"
     ],
     "language": "python",
     "metadata": {},
     "outputs": [
      {
       "metadata": {},
       "output_type": "display_data",
       "png": "[encoded data removed]",
       "text": [
        "<matplotlib.figure.Figure at 0x30d3d90>"
       ]
      }
     ],
     "prompt_number": 8
    }
   ],
   "metadata": {}
  }
 ]
}